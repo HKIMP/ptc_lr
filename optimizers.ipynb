{
 "metadata": {
  "language_info": {
   "codemirror_mode": {
    "name": "ipython",
    "version": 3
   },
   "file_extension": ".py",
   "mimetype": "text/x-python",
   "name": "python",
   "nbconvert_exporter": "python",
   "pygments_lexer": "ipython3",
   "version": 3
  },
  "orig_nbformat": 2
 },
 "nbformat": 4,
 "nbformat_minor": 2,
 "cells": [
  {
   "source": [
    "参考：\n",
    "\n",
    "[pytorch 优化器(optim)不同参数组，不同学习率设置](https://blog.csdn.net/junqing_wu/article/details/94395340)"
   ],
   "cell_type": "markdown",
   "metadata": {}
  }
 ]
}