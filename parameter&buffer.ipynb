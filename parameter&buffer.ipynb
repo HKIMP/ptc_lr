{
 "metadata": {
  "language_info": {
   "codemirror_mode": {
    "name": "ipython",
    "version": 3
   },
   "file_extension": ".py",
   "mimetype": "text/x-python",
   "name": "python",
   "nbconvert_exporter": "python",
   "pygments_lexer": "ipython3",
   "version": "3.8.2-final"
  },
  "orig_nbformat": 2,
  "kernelspec": {
   "name": "python3",
   "display_name": "Python 3",
   "language": "python"
  }
 },
 "nbformat": 4,
 "nbformat_minor": 2,
 "cells": [
  {
   "source": [
    "## register_buffer"
   ],
   "cell_type": "markdown",
   "metadata": {}
  },
  {
   "source": [
    "参考：\n",
    "\n",
    "1. [What is the difference between 'register_buffer' and 'register_parameter' of 'nn.Module'](https://discuss.pytorch.org/t/what-is-the-difference-between-register-buffer-and-register-parameter-of-nn-module/32723)\n",
    "\n",
    "2. [Pytorch模型中的parameter与buffer](https://zhuanlan.zhihu.com/p/89442276)"
   ],
   "cell_type": "markdown",
   "metadata": {}
  },
  {
   "source": [
    "在Pytorch中，一种模型保存方法如下："
   ],
   "cell_type": "markdown",
   "metadata": {}
  },
  {
   "cell_type": "code",
   "execution_count": 1,
   "metadata": {},
   "outputs": [],
   "source": [
    "import torch"
   ]
  },
  {
   "cell_type": "code",
   "execution_count": 3,
   "metadata": {},
   "outputs": [],
   "source": [
    "class MyModel(torch.nn.Module):\n",
    "    def __init__(self, input_size, output_size):\n",
    "        super().__init__()\n",
    "        self.linear = torch.nn.Linear(input_size, output_size)\n",
    "    \n",
    "    def forward(self, x):\n",
    "        return self.linear(x)"
   ]
  },
  {
   "cell_type": "code",
   "execution_count": 6,
   "metadata": {},
   "outputs": [
    {
     "output_type": "stream",
     "name": "stdout",
     "text": [
      "OrderedDict([('linear.weight', tensor([[-0.4406,  0.0370],\n        [ 0.1972,  0.5418],\n        [ 0.5899, -0.0691]])), ('linear.bias', tensor([ 0.2596, -0.5622, -0.2093]))])\n"
     ]
    }
   ],
   "source": [
    "model = MyModel(2, 3)\n",
    "print(model.state_dict())"
   ]
  },
  {
   "source": [
    "可以看到model.state.dict的返回对象是一个OrderedDict，它以键值对的形式包含了模型中需要保存下来的参数。Mymodel中就是weight, bias"
   ],
   "cell_type": "markdown",
   "metadata": {}
  },
  {
   "source": [
    "接下来看parameter 和 buffer\n",
    "\n",
    "模型中需要保存下来的参数有两种：\n",
    "\n",
    "1. 经过反向传播，需要被optimizer更新的，称为parameter\n",
    "\n",
    "2. 不经过反向传播 称为buffer 比如 transformer中的postion embedding\n",
    "\n",
    "第一种参数我们可以通过 model.parameters() 返回；\n",
    "\n",
    "第二种参数我们可以通过 model.buffers() 返回。"
   ],
   "cell_type": "markdown",
   "metadata": {}
  },
  {
   "cell_type": "code",
   "execution_count": 7,
   "metadata": {},
   "outputs": [],
   "source": [
    "class MyModel(torch.nn.Module):\n",
    "    def __init__(self):\n",
    "        super().__init__()\n",
    "        buffer = torch.randn(2, 3)\n",
    "        self.register_buffer('my_buffer', buffer)\n",
    "        self.param = torch.nn.Parameter(torch.rand(2, 3))\n",
    "\n",
    "    def forward(self, x):\n",
    "        pass\n",
    "        "
   ]
  },
  {
   "source": [
    "可以看到模型保存的参数，既包括parameters, 也包括buffers"
   ],
   "cell_type": "markdown",
   "metadata": {}
  },
  {
   "cell_type": "code",
   "execution_count": 8,
   "metadata": {},
   "outputs": [
    {
     "output_type": "stream",
     "name": "stdout",
     "text": [
      "OrderedDict([('param', tensor([[0.9412, 0.0178, 0.0433],\n        [0.8280, 0.6318, 0.2142]])), ('my_buffer', tensor([[ 1.5445,  2.1983, -1.7092],\n        [-1.8460,  0.5065, -0.5747]]))])\n"
     ]
    }
   ],
   "source": [
    "model = MyModel()\n",
    "print(model.state_dict())"
   ]
  },
  {
   "cell_type": "code",
   "execution_count": 9,
   "metadata": {},
   "outputs": [
    {
     "output_type": "stream",
     "name": "stdout",
     "text": [
      "Parameter containing:\ntensor([[0.9412, 0.0178, 0.0433],\n        [0.8280, 0.6318, 0.2142]], requires_grad=True)\n"
     ]
    }
   ],
   "source": [
    "for param in model.parameters():\n",
    "    print(param)"
   ]
  },
  {
   "cell_type": "code",
   "execution_count": 10,
   "metadata": {},
   "outputs": [
    {
     "output_type": "stream",
     "name": "stdout",
     "text": [
      "tensor([[ 1.5445,  2.1983, -1.7092],\n        [-1.8460,  0.5065, -0.5747]])\n"
     ]
    }
   ],
   "source": [
    "for param in model.buffers():\n",
    "    print(param)"
   ]
  },
  {
   "cell_type": "code",
   "execution_count": 11,
   "metadata": {},
   "outputs": [
    {
     "output_type": "stream",
     "name": "stdout",
     "text": [
      "OrderedDict([('param', tensor([[0.9412, 0.0178, 0.0433],\n        [0.8280, 0.6318, 0.2142]], device='cuda:0')), ('my_buffer', tensor([[ 1.5445,  2.1983, -1.7092],\n        [-1.8460,  0.5065, -0.5747]], device='cuda:0'))])\n"
     ]
    }
   ],
   "source": [
    "model.cuda()\n",
    "print(model.state_dict())"
   ]
  },
  {
   "source": [
    "总结：\n",
    "\n",
    "1. 模型中需要进行更新的参数注册为 parameter, 不进行更新的设置为buffer.\n",
    "\n",
    "2. 模型保存的参数是 model.state_dict() 返回的 OrderedDict\n",
    "\n",
    "3. 模型进行设备移动时，模型中注册的参数 parameter buffer 会同时移动"
   ],
   "cell_type": "markdown",
   "metadata": {}
  }
 ]
}